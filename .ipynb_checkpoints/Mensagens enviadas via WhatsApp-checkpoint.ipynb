{
 "cells": [
  {
   "cell_type": "markdown",
   "id": "ca38b7fa",
   "metadata": {},
   "source": [
    "# Automação - Mensagens enviadas via WhatsApp"
   ]
  },
  {
   "cell_type": "markdown",
   "id": "9dfd6fe4",
   "metadata": {},
   "source": [
    "## Introdução\n",
    "\n",
    "Nesse estudo vamos automatiza um processo de envio de mensagens via WhatsApp.\n",
    "\n",
    "Cenário no qual vamos utilizar o Selenium que é uma biblioteca que vai nos possibilitar essa automação. A instalação foi realizada através do Prompt de comando(Anaconda).\n",
    "\n",
    "Vamos usar também o webdriver que vai possibilitar a conexão do Python com o navegador, como será usado o Google Chrome vamos baixar o webdriver Chromedriver. Ou seja, a definição de qual webdriver baixar vai depender de qual navegador estamos usando."
   ]
  },
  {
   "cell_type": "markdown",
   "id": "5f26f3ff",
   "metadata": {},
   "source": [
    "## Observações\n",
    "\n",
    "* WhatsApp não gosta de automações, dependendo da frequência de envio o próprio whatsapp pode bloquear o nosso número;\n",
    "* Isso não é o uso da **API Oficial do WhatsApp**, pois o próprio WhatsApp tem uma API oficial, ou seja, se o nosso objetivo é fazer envio em massa ou criar arqueles robozinhos que respondem automaticamente no whatsapp, então será melhor usar à API oficial;\n",
    "\n",
    "* Sendo assim o objetivo aqui é enviar mensagens via whatsapp para um série de pessoas, ou seja, será automatizado esse processo de envio."
   ]
  },
  {
   "cell_type": "markdown",
   "id": "b550805e",
   "metadata": {},
   "source": [
    "## Sobre os dados\n",
    "\n",
    "A lista no qual vamos utilizar está em um arquivo em formato xlsx..."
   ]
  },
  {
   "cell_type": "markdown",
   "id": "8fa8c620",
   "metadata": {},
   "source": [
    "## Wa.me\n",
    "\n",
    "Vamos utilizar a ferramenta **wa.me** esse link abreviado para ‘api.WhatsApp.com’. que trata-se de um conceito bastante simples: um URL que acessa rapidamente uma conversa, em apenas um clique, sendo também chamado de “clique para conversar” (do inglês “click to chat”).\n",
    "\n",
    " A partir desse link pode-se compartilhar o seu contato de WhatsApp de modo bastante prático e rápido, sem a necessidade que a outra pessoa salve seu contato previamente.\n",
    "\n",
    "Cabe ressaltar que isso não quer dizer que os outros vão ver as conversas no seu mensageiro. O que acontece apenas é a abertura de uma janela de chat associada com o seu número. Tal domínio do WhatsApp é, em essência, apenas uma extensão da versão web do aplicativo."
   ]
  },
  {
   "cell_type": "code",
   "execution_count": 1,
   "id": "5b129d11",
   "metadata": {},
   "outputs": [
    {
     "data": {
      "text/html": [
       "<div>\n",
       "<style scoped>\n",
       "    .dataframe tbody tr th:only-of-type {\n",
       "        vertical-align: middle;\n",
       "    }\n",
       "\n",
       "    .dataframe tbody tr th {\n",
       "        vertical-align: top;\n",
       "    }\n",
       "\n",
       "    .dataframe thead th {\n",
       "        text-align: right;\n",
       "    }\n",
       "</style>\n",
       "<table border=\"1\" class=\"dataframe\">\n",
       "  <thead>\n",
       "    <tr style=\"text-align: right;\">\n",
       "      <th></th>\n",
       "      <th>Pessoa</th>\n",
       "      <th>Número</th>\n",
       "      <th>Mensagem</th>\n",
       "    </tr>\n",
       "  </thead>\n",
       "  <tbody>\n",
       "    <tr>\n",
       "      <th>0</th>\n",
       "      <td>Taciane</td>\n",
       "      <td>5531975793269</td>\n",
       "      <td>Ei como esta? Bom dia!</td>\n",
       "    </tr>\n",
       "    <tr>\n",
       "      <th>1</th>\n",
       "      <td>Natane</td>\n",
       "      <td>5531995533249</td>\n",
       "      <td>Ei, o Mirandinha está bem?</td>\n",
       "    </tr>\n",
       "    <tr>\n",
       "      <th>2</th>\n",
       "      <td>Hans</td>\n",
       "      <td>5531997907666</td>\n",
       "      <td>Fala Hans, tranquilo?</td>\n",
       "    </tr>\n",
       "    <tr>\n",
       "      <th>3</th>\n",
       "      <td>Wagner</td>\n",
       "      <td>5531999170088</td>\n",
       "      <td>Fala Sr Wagner, na paz?</td>\n",
       "    </tr>\n",
       "  </tbody>\n",
       "</table>\n",
       "</div>"
      ],
      "text/plain": [
       "    Pessoa         Número                    Mensagem\n",
       "0  Taciane  5531975793269      Ei como esta? Bom dia!\n",
       "1   Natane  5531995533249  Ei, o Mirandinha está bem?\n",
       "2     Hans  5531997907666       Fala Hans, tranquilo?\n",
       "3   Wagner  5531999170088     Fala Sr Wagner, na paz?"
      ]
     },
     "metadata": {},
     "output_type": "display_data"
    }
   ],
   "source": [
    "#Fazer a leitura do arquivo, lista\n",
    "\n",
    "import pandas as pd\n",
    "\n",
    "agenda_df = pd.read_excel(\"Enviar.xlsx\")\n",
    "display(agenda_df)"
   ]
  },
  {
   "cell_type": "code",
   "execution_count": 2,
   "id": "680268c0",
   "metadata": {},
   "outputs": [],
   "source": [
    "from selenium import webdriver #permtir abir o nagegador, entrar no whatsapp\n",
    "\n"
   ]
  },
  {
   "cell_type": "code",
   "execution_count": 3,
   "id": "767ff7c0",
   "metadata": {},
   "outputs": [],
   "source": [
    "from selenium.webdriver.common.keys import Keys\n",
    "\n"
   ]
  },
  {
   "cell_type": "code",
   "execution_count": 4,
   "id": "b197f77c",
   "metadata": {},
   "outputs": [],
   "source": [
    "import time"
   ]
  },
  {
   "cell_type": "code",
   "execution_count": 5,
   "id": "cfacd2ec",
   "metadata": {},
   "outputs": [],
   "source": [
    "import urllib"
   ]
  },
  {
   "cell_type": "code",
   "execution_count": 9,
   "id": "d20439c3",
   "metadata": {},
   "outputs": [
    {
     "ename": "IndentationError",
     "evalue": "unexpected indent (2098049599.py, line 13)",
     "output_type": "error",
     "traceback": [
      "\u001b[1;36m  Input \u001b[1;32mIn [9]\u001b[1;36m\u001b[0m\n\u001b[1;33m    while len(navegador.find_elements_by_id (\"pane-side\")) < 1:\u001b[0m\n\u001b[1;37m    ^\u001b[0m\n\u001b[1;31mIndentationError\u001b[0m\u001b[1;31m:\u001b[0m unexpected indent\n"
     ]
    }
   ],
   "source": [
    "navegador = webdriver.Chrome()\n",
    "navegador.get(\"https://web.whatsapp.com/\")\n",
    "\n",
    "while len(navegador.find_elements_by_id(\"pane-side\"))<1: \n",
    "        time.sleep(1)\n",
    "        \n",
    "for i, mensagem in enumerate(agenda_df)['Mensagem']:#pegar a mensagem, nome e número\n",
    "    pessoa = agenda_df.loc[i,\"Pessoa\"] #linha e coluna\n",
    "    numero = agenda_df.loc[i,\"Número\"] #linha e coluna\n",
    "    texto = urllib.parse.quote(f\"Oi {pessoa}!{mensagem}\") #pegando a mensagem e codificando para a variavél texto\n",
    "    link = f\"https://web.whatsapp.com/send?phone={numero}&text={texto}\"\n",
    "    navegador.get(link)\n",
    "     while len(navegador.find_elements_by_id (\"pane-side\")) < 1: \n",
    "        time.sleep(1)\n"
   ]
  },
  {
   "cell_type": "code",
   "execution_count": null,
   "id": "4802bd6c",
   "metadata": {},
   "outputs": [],
   "source": [
    "#Comemtários do código acima:\n",
    "#só vai abrir quando encontrar os elementos esperando 1 seg\n",
    "#espera aparecer o elemento que tem id de \"pane-side\". Esse elemento só existe nessa pagína\n",
    "\n",
    "#após rodarmos essa linha de código vai abrir a página na web pra que possamos escanear o código QR com o nosso smartphone\n",
    "#cont...em nosso aplicativo whatsapp, pode ser que demore a carregar\n",
    "\n",
    "#já estamos com o login feito no whatsapp web\n",
    "\n"
   ]
  }
 ],
 "metadata": {
  "kernelspec": {
   "display_name": "Python 3 (ipykernel)",
   "language": "python",
   "name": "python3"
  },
  "language_info": {
   "codemirror_mode": {
    "name": "ipython",
    "version": 3
   },
   "file_extension": ".py",
   "mimetype": "text/x-python",
   "name": "python",
   "nbconvert_exporter": "python",
   "pygments_lexer": "ipython3",
   "version": "3.9.12"
  }
 },
 "nbformat": 4,
 "nbformat_minor": 5
}
